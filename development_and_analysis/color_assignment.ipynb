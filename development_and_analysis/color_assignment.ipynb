{
 "cells": [
  {
   "cell_type": "code",
   "execution_count": 14,
   "id": "0553c060",
   "metadata": {},
   "outputs": [
    {
     "name": "stdout",
     "output_type": "stream",
     "text": [
      "Collecting scikit-learn\n",
      "  Obtaining dependency information for scikit-learn from https://files.pythonhosted.org/packages/b2/3b/47b5eaee01ef2b5a80ba3f7f6ecf79587cb458690857d4777bfd77371c6f/scikit_learn-1.7.1-cp311-cp311-win_amd64.whl.metadata\n",
      "  Downloading scikit_learn-1.7.1-cp311-cp311-win_amd64.whl.metadata (11 kB)\n",
      "Requirement already satisfied: numpy>=1.22.0 in c:\\users\\vansh\\onedrive\\desktop\\football_analysis\\tfenv\\lib\\site-packages (from scikit-learn) (2.2.6)\n",
      "Requirement already satisfied: scipy>=1.8.0 in c:\\users\\vansh\\onedrive\\desktop\\football_analysis\\tfenv\\lib\\site-packages (from scikit-learn) (1.16.0)\n",
      "Collecting joblib>=1.2.0 (from scikit-learn)\n",
      "  Obtaining dependency information for joblib>=1.2.0 from https://files.pythonhosted.org/packages/7d/4f/1195bbac8e0c2acc5f740661631d8d750dc38d4a32b23ee5df3cde6f4e0d/joblib-1.5.1-py3-none-any.whl.metadata\n",
      "  Downloading joblib-1.5.1-py3-none-any.whl.metadata (5.6 kB)\n",
      "Collecting threadpoolctl>=3.1.0 (from scikit-learn)\n",
      "  Obtaining dependency information for threadpoolctl>=3.1.0 from https://files.pythonhosted.org/packages/32/d5/f9a850d79b0851d1d4ef6456097579a9005b31fea68726a4ae5f2d82ddd9/threadpoolctl-3.6.0-py3-none-any.whl.metadata\n",
      "  Downloading threadpoolctl-3.6.0-py3-none-any.whl.metadata (13 kB)\n",
      "Downloading scikit_learn-1.7.1-cp311-cp311-win_amd64.whl (8.9 MB)\n",
      "   ---------------------------------------- 0.0/8.9 MB ? eta -:--:--\n",
      "   ---------------------------------------- 0.0/8.9 MB 1.3 MB/s eta 0:00:07\n",
      "   ---------------------------------------- 0.0/8.9 MB 1.3 MB/s eta 0:00:07\n",
      "   ---------------------------------------- 0.1/8.9 MB 751.6 kB/s eta 0:00:12\n",
      "   ---------------------------------------- 0.1/8.9 MB 751.6 kB/s eta 0:00:12\n",
      "   - -------------------------------------- 0.2/8.9 MB 1.1 MB/s eta 0:00:09\n",
      "   - -------------------------------------- 0.2/8.9 MB 1.1 MB/s eta 0:00:09\n",
      "   - -------------------------------------- 0.3/8.9 MB 930.9 kB/s eta 0:00:10\n",
      "   -- ------------------------------------- 0.5/8.9 MB 1.5 MB/s eta 0:00:06\n",
      "   -- ------------------------------------- 0.5/8.9 MB 1.5 MB/s eta 0:00:06\n",
      "   --- ------------------------------------ 0.8/8.9 MB 1.8 MB/s eta 0:00:05\n",
      "   --- ------------------------------------ 0.9/8.9 MB 1.9 MB/s eta 0:00:05\n",
      "   ---- ----------------------------------- 1.0/8.9 MB 2.0 MB/s eta 0:00:04\n",
      "   ----- ---------------------------------- 1.3/8.9 MB 2.4 MB/s eta 0:00:04\n",
      "   ------ --------------------------------- 1.5/8.9 MB 2.4 MB/s eta 0:00:04\n",
      "   ------- -------------------------------- 1.7/8.9 MB 2.6 MB/s eta 0:00:03\n",
      "   ------- -------------------------------- 1.8/8.9 MB 2.5 MB/s eta 0:00:03\n",
      "   -------- ------------------------------- 1.9/8.9 MB 2.5 MB/s eta 0:00:03\n",
      "   -------- ------------------------------- 1.9/8.9 MB 2.5 MB/s eta 0:00:03\n",
      "   ---------- ----------------------------- 2.3/8.9 MB 2.7 MB/s eta 0:00:03\n",
      "   ---------- ----------------------------- 2.3/8.9 MB 2.7 MB/s eta 0:00:03\n",
      "   ----------- ---------------------------- 2.6/8.9 MB 2.8 MB/s eta 0:00:03\n",
      "   ------------ --------------------------- 2.7/8.9 MB 2.9 MB/s eta 0:00:03\n",
      "   ------------ --------------------------- 2.8/8.9 MB 2.8 MB/s eta 0:00:03\n",
      "   ------------- -------------------------- 3.1/8.9 MB 2.9 MB/s eta 0:00:02\n",
      "   -------------- ------------------------- 3.2/8.9 MB 2.9 MB/s eta 0:00:02\n",
      "   -------------- ------------------------- 3.2/8.9 MB 2.9 MB/s eta 0:00:02\n",
      "   -------------- ------------------------- 3.3/8.9 MB 2.7 MB/s eta 0:00:03\n",
      "   --------------- ------------------------ 3.5/8.9 MB 2.8 MB/s eta 0:00:02\n",
      "   --------------- ------------------------ 3.5/8.9 MB 2.8 MB/s eta 0:00:02\n",
      "   ----------------- ---------------------- 3.8/8.9 MB 2.9 MB/s eta 0:00:02\n",
      "   ----------------- ---------------------- 3.9/8.9 MB 2.9 MB/s eta 0:00:02\n",
      "   ------------------ --------------------- 4.1/8.9 MB 2.9 MB/s eta 0:00:02\n",
      "   ------------------- -------------------- 4.4/8.9 MB 3.0 MB/s eta 0:00:02\n",
      "   ------------------- -------------------- 4.4/8.9 MB 2.9 MB/s eta 0:00:02\n",
      "   -------------------- ------------------- 4.5/8.9 MB 3.0 MB/s eta 0:00:02\n",
      "   -------------------- ------------------- 4.5/8.9 MB 3.0 MB/s eta 0:00:02\n",
      "   --------------------- ------------------ 4.9/8.9 MB 3.0 MB/s eta 0:00:02\n",
      "   ---------------------- ----------------- 4.9/8.9 MB 3.0 MB/s eta 0:00:02\n",
      "   ----------------------- ---------------- 5.2/8.9 MB 3.0 MB/s eta 0:00:02\n",
      "   ----------------------- ---------------- 5.3/8.9 MB 3.1 MB/s eta 0:00:02\n",
      "   ------------------------ --------------- 5.4/8.9 MB 3.0 MB/s eta 0:00:02\n",
      "   ------------------------- -------------- 5.7/8.9 MB 3.1 MB/s eta 0:00:02\n",
      "   -------------------------- ------------- 5.9/8.9 MB 3.1 MB/s eta 0:00:01\n",
      "   -------------------------- ------------- 5.9/8.9 MB 3.1 MB/s eta 0:00:01\n",
      "   -------------------------- ------------- 5.9/8.9 MB 3.1 MB/s eta 0:00:01\n",
      "   ---------------------------- ----------- 6.3/8.9 MB 3.1 MB/s eta 0:00:01\n",
      "   ---------------------------- ----------- 6.4/8.9 MB 3.1 MB/s eta 0:00:01\n",
      "   ----------------------------- ---------- 6.7/8.9 MB 3.1 MB/s eta 0:00:01\n",
      "   ------------------------------ --------- 6.7/8.9 MB 3.1 MB/s eta 0:00:01\n",
      "   ------------------------------- -------- 6.9/8.9 MB 3.1 MB/s eta 0:00:01\n",
      "   -------------------------------- ------- 7.2/8.9 MB 3.2 MB/s eta 0:00:01\n",
      "   -------------------------------- ------- 7.2/8.9 MB 3.2 MB/s eta 0:00:01\n",
      "   --------------------------------- ------ 7.5/8.9 MB 3.2 MB/s eta 0:00:01\n",
      "   --------------------------------- ------ 7.5/8.9 MB 3.2 MB/s eta 0:00:01\n",
      "   ----------------------------------- ---- 7.8/8.9 MB 3.2 MB/s eta 0:00:01\n",
      "   ----------------------------------- ---- 7.9/8.9 MB 3.2 MB/s eta 0:00:01\n",
      "   ------------------------------------ --- 8.1/8.9 MB 3.2 MB/s eta 0:00:01\n",
      "   ------------------------------------ --- 8.2/8.9 MB 3.2 MB/s eta 0:00:01\n",
      "   ------------------------------------- -- 8.3/8.9 MB 3.2 MB/s eta 0:00:01\n",
      "   -------------------------------------- - 8.6/8.9 MB 3.3 MB/s eta 0:00:01\n",
      "   -------------------------------------- - 8.6/8.9 MB 3.3 MB/s eta 0:00:01\n",
      "   ---------------------------------------  8.9/8.9 MB 3.3 MB/s eta 0:00:01\n",
      "   ---------------------------------------- 8.9/8.9 MB 3.2 MB/s eta 0:00:00\n",
      "Downloading joblib-1.5.1-py3-none-any.whl (307 kB)\n",
      "   ---------------------------------------- 0.0/307.7 kB ? eta -:--:--\n",
      "   ---------------------------------------  307.2/307.7 kB 9.6 MB/s eta 0:00:01\n",
      "   ---------------------------------------- 307.7/307.7 kB 6.3 MB/s eta 0:00:00\n",
      "Downloading threadpoolctl-3.6.0-py3-none-any.whl (18 kB)\n",
      "Installing collected packages: threadpoolctl, joblib, scikit-learn\n",
      "Successfully installed joblib-1.5.1 scikit-learn-1.7.1 threadpoolctl-3.6.0\n",
      "Note: you may need to restart the kernel to use updated packages.\n"
     ]
    },
    {
     "name": "stderr",
     "output_type": "stream",
     "text": [
      "\n",
      "[notice] A new release of pip is available: 23.2.1 -> 25.1.1\n",
      "[notice] To update, run: python.exe -m pip install --upgrade pip\n"
     ]
    }
   ],
   "source": [
    "%pip install scikit-learn\n"
   ]
  },
  {
   "cell_type": "code",
   "execution_count": 15,
   "id": "664551fe",
   "metadata": {},
   "outputs": [
    {
     "name": "stdout",
     "output_type": "stream",
     "text": [
      "Requirement already satisfied: scikit-learn in c:\\users\\vansh\\onedrive\\desktop\\football_analysis\\tfenv\\lib\\site-packages (1.7.1)\n",
      "Requirement already satisfied: opencv-python in c:\\users\\vansh\\onedrive\\desktop\\football_analysis\\tfenv\\lib\\site-packages (4.12.0.88)\n",
      "Requirement already satisfied: matplotlib in c:\\users\\vansh\\onedrive\\desktop\\football_analysis\\tfenv\\lib\\site-packages (3.10.3)\n",
      "Requirement already satisfied: numpy in c:\\users\\vansh\\onedrive\\desktop\\football_analysis\\tfenv\\lib\\site-packages (2.2.6)\n",
      "Requirement already satisfied: scipy>=1.8.0 in c:\\users\\vansh\\onedrive\\desktop\\football_analysis\\tfenv\\lib\\site-packages (from scikit-learn) (1.16.0)\n",
      "Requirement already satisfied: joblib>=1.2.0 in c:\\users\\vansh\\onedrive\\desktop\\football_analysis\\tfenv\\lib\\site-packages (from scikit-learn) (1.5.1)\n",
      "Requirement already satisfied: threadpoolctl>=3.1.0 in c:\\users\\vansh\\onedrive\\desktop\\football_analysis\\tfenv\\lib\\site-packages (from scikit-learn) (3.6.0)\n",
      "Requirement already satisfied: contourpy>=1.0.1 in c:\\users\\vansh\\onedrive\\desktop\\football_analysis\\tfenv\\lib\\site-packages (from matplotlib) (1.3.2)\n",
      "Requirement already satisfied: cycler>=0.10 in c:\\users\\vansh\\onedrive\\desktop\\football_analysis\\tfenv\\lib\\site-packages (from matplotlib) (0.12.1)\n",
      "Requirement already satisfied: fonttools>=4.22.0 in c:\\users\\vansh\\onedrive\\desktop\\football_analysis\\tfenv\\lib\\site-packages (from matplotlib) (4.59.0)\n",
      "Requirement already satisfied: kiwisolver>=1.3.1 in c:\\users\\vansh\\onedrive\\desktop\\football_analysis\\tfenv\\lib\\site-packages (from matplotlib) (1.4.8)\n",
      "Requirement already satisfied: packaging>=20.0 in c:\\users\\vansh\\onedrive\\desktop\\football_analysis\\tfenv\\lib\\site-packages (from matplotlib) (25.0)\n",
      "Requirement already satisfied: pillow>=8 in c:\\users\\vansh\\onedrive\\desktop\\football_analysis\\tfenv\\lib\\site-packages (from matplotlib) (11.0.0)\n",
      "Requirement already satisfied: pyparsing>=2.3.1 in c:\\users\\vansh\\onedrive\\desktop\\football_analysis\\tfenv\\lib\\site-packages (from matplotlib) (3.2.3)\n",
      "Requirement already satisfied: python-dateutil>=2.7 in c:\\users\\vansh\\onedrive\\desktop\\football_analysis\\tfenv\\lib\\site-packages (from matplotlib) (2.9.0.post0)\n",
      "Requirement already satisfied: six>=1.5 in c:\\users\\vansh\\onedrive\\desktop\\football_analysis\\tfenv\\lib\\site-packages (from python-dateutil>=2.7->matplotlib) (1.17.0)\n",
      "Note: you may need to restart the kernel to use updated packages.\n"
     ]
    },
    {
     "name": "stderr",
     "output_type": "stream",
     "text": [
      "\n",
      "[notice] A new release of pip is available: 23.2.1 -> 25.1.1\n",
      "[notice] To update, run: python.exe -m pip install --upgrade pip\n"
     ]
    }
   ],
   "source": [
    "%pip install scikit-learn opencv-python matplotlib numpy\n"
   ]
  },
  {
   "cell_type": "code",
   "execution_count": 16,
   "id": "4ecea1d5",
   "metadata": {},
   "outputs": [],
   "source": [
    "import cv2\n",
    "import numpy as np\n",
    "import matplotlib.pyplot as plt\n",
    "\n",
    "from sklearn.cluster import KMeans"
   ]
  },
  {
   "cell_type": "code",
   "execution_count": null,
   "id": "91337f74",
   "metadata": {},
   "outputs": [],
   "source": []
  },
  {
   "cell_type": "code",
   "execution_count": 7,
   "id": "78412246",
   "metadata": {},
   "outputs": [],
   "source": [
    "image_path = \"C:/Users/Vansh/OneDrive/Desktop/football_analysis/output_videos/cropped_image.jpg\"\n",
    "image=cv2.imread(image_path)\n",
    "image = cv2.cvtColor(image, cv2.COLOR_BGR2RGB)\n"
   ]
  },
  {
   "cell_type": "code",
   "execution_count": 8,
   "id": "5641c819",
   "metadata": {},
   "outputs": [
    {
     "data": {
      "image/png": "[encoded data removed]",
      "text/plain": [
       "<Figure size 640x480 with 1 Axes>"
      ]
     },
     "metadata": {},
     "output_type": "display_data"
    }
   ],
   "source": [
    "plt.imshow(image)\n",
    "plt.show()"
   ]
  },
  {
   "cell_type": "markdown",
   "id": "5af162e1",
   "metadata": {},
   "source": [
    "taking top half of he image\n"
   ]
  },
  {
   "cell_type": "code",
   "execution_count": 9,
   "id": "f4bf1e44",
   "metadata": {},
   "outputs": [
    {
     "data": {
      "image/png": "[encoded data removed]",
      "text/plain": [
       "<Figure size 640x480 with 1 Axes>"
      ]
     },
     "metadata": {},
     "output_type": "display_data"
    }
   ],
   "source": [
    "top_half_image = image[:image.shape[0]//2, :, :]\n",
    "plt.imshow(top_half_image)\n",
    "plt.show()"
   ]
  },
  {
   "cell_type": "markdown",
   "id": "9a024dc2",
   "metadata": {},
   "source": [
    "Cluster the image into two clusters\n"
   ]
  },
  {
   "cell_type": "code",
   "execution_count": 18,
   "id": "a83604bb",
   "metadata": {},
   "outputs": [
    {
     "data": {
      "image/png": "[encoded data removed]",
      "text/plain": [
       "<Figure size 640x480 with 1 Axes>"
      ]
     },
     "metadata": {},
     "output_type": "display_data"
    }
   ],
   "source": [
    "image_2d=top_half_image.reshape((-1, 3))\n",
    "kmeans = KMeans(n_clusters=2, random_state=0).fit(image_2d)\n",
    "labels = kmeans.labels_\n",
    "\n",
    "# Reshape labels to the original image shape\n",
    "clustered_image = labels.reshape(top_half_image.shape[0], top_half_image.shape[1])\n",
    "plt.imshow(clustered_image)\n",
    "plt.show()"
   ]
  },
  {
   "cell_type": "code",
   "execution_count": 19,
   "id": "5c7d8732",
   "metadata": {},
   "outputs": [
    {
     "name": "stdout",
     "output_type": "stream",
     "text": [
      "Non-player cluster: 1\n"
     ]
    }
   ],
   "source": [
    "corner_cluster = [clustered_image[0, 0], clustered_image[0, -1], clustered_image[-1, 0], clustered_image[-1, -1]]\n",
    "non_player_cluster= max(set(corner_cluster), key=corner_cluster.count)\n",
    "\n",
    "print(\"Non-player cluster:\", non_player_cluster)"
   ]
  },
  {
   "cell_type": "code",
   "execution_count": 20,
   "id": "4b3f63d3",
   "metadata": {},
   "outputs": [
    {
     "name": "stdout",
     "output_type": "stream",
     "text": [
      "Player cluster: 0\n"
     ]
    }
   ],
   "source": [
    "player_cluster= 1 - non_player_cluster\n",
    "print(\"Player cluster:\", player_cluster)"
   ]
  },
  {
   "cell_type": "code",
   "execution_count": 21,
   "id": "78627baf",
   "metadata": {},
   "outputs": [
    {
     "data": {
      "text/plain": [
       "array([184.91791045, 239.19402985, 154.11567164])"
      ]
     },
     "execution_count": 21,
     "metadata": {},
     "output_type": "execute_result"
    }
   ],
   "source": [
    "kmeans.cluster_centers_[player_cluster]"
   ]
  },
  {
   "cell_type": "code",
   "execution_count": null,
   "id": "f2085089",
   "metadata": {},
   "outputs": [],
   "source": []
  },
  {
   "cell_type": "code",
   "execution_count": null,
   "id": "d7f32636",
   "metadata": {},
   "outputs": [],
   "source": []
  }
 ],
 "metadata": {
  "kernelspec": {
   "display_name": "tfenv",
   "language": "python",
   "name": "python3"
  },
  "language_info": {
   "codemirror_mode": {
    "name": "ipython",
    "version": 3
   },
   "file_extension": ".py",
   "mimetype": "text/x-python",
   "name": "python",
   "nbconvert_exporter": "python",
   "pygments_lexer": "ipython3",
   "version": "3.11.6"
  }
 },
 "nbformat": 4,
 "nbformat_minor": 5
}
